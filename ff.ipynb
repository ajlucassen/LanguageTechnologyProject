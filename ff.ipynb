{
  "nbformat": 4,
  "nbformat_minor": 0,
  "metadata": {
    "colab": {
      "name": "ff with bert.ipynb",
      "provenance": [],
      "collapsed_sections": []
    },
    "kernelspec": {
      "name": "python3",
      "display_name": "Python 3"
    },
    "language_info": {
      "name": "python"
    },
    "accelerator": "GPU",
    "widgets": {
      "application/vnd.jupyter.widget-state+json": {
        "079ff482c9ac44b6a94fe99686d57f61": {
          "model_module": "@jupyter-widgets/controls",
          "model_name": "HBoxModel",
          "state": {
            "_view_name": "HBoxView",
            "_dom_classes": [],
            "_model_name": "HBoxModel",
            "_view_module": "@jupyter-widgets/controls",
            "_model_module_version": "1.5.0",
            "_view_count": null,
            "_view_module_version": "1.5.0",
            "box_style": "",
            "layout": "IPY_MODEL_30c86d215cc44ea8959c2987ab6ba447",
            "_model_module": "@jupyter-widgets/controls",
            "children": [
              "IPY_MODEL_2bff5ea7af904740a7fab5a752810a02",
              "IPY_MODEL_7dda7aa60f0c4cfb8e6b50f4746018fe"
            ]
          }
        },
        "30c86d215cc44ea8959c2987ab6ba447": {
          "model_module": "@jupyter-widgets/base",
          "model_name": "LayoutModel",
          "state": {
            "_view_name": "LayoutView",
            "grid_template_rows": null,
            "right": null,
            "justify_content": null,
            "_view_module": "@jupyter-widgets/base",
            "overflow": null,
            "_model_module_version": "1.2.0",
            "_view_count": null,
            "flex_flow": null,
            "width": null,
            "min_width": null,
            "border": null,
            "align_items": null,
            "bottom": null,
            "_model_module": "@jupyter-widgets/base",
            "top": null,
            "grid_column": null,
            "overflow_y": null,
            "overflow_x": null,
            "grid_auto_flow": null,
            "grid_area": null,
            "grid_template_columns": null,
            "flex": null,
            "_model_name": "LayoutModel",
            "justify_items": null,
            "grid_row": null,
            "max_height": null,
            "align_content": null,
            "visibility": null,
            "align_self": null,
            "height": null,
            "min_height": null,
            "padding": null,
            "grid_auto_rows": null,
            "grid_gap": null,
            "max_width": null,
            "order": null,
            "_view_module_version": "1.2.0",
            "grid_template_areas": null,
            "object_position": null,
            "object_fit": null,
            "grid_auto_columns": null,
            "margin": null,
            "display": null,
            "left": null
          }
        },
        "2bff5ea7af904740a7fab5a752810a02": {
          "model_module": "@jupyter-widgets/controls",
          "model_name": "FloatProgressModel",
          "state": {
            "_view_name": "ProgressView",
            "style": "IPY_MODEL_d2caf39e45c44243968d7a39ff4dfbf6",
            "_dom_classes": [],
            "description": "Downloading: 100%",
            "_model_name": "FloatProgressModel",
            "bar_style": "success",
            "max": 231508,
            "_view_module": "@jupyter-widgets/controls",
            "_model_module_version": "1.5.0",
            "value": 231508,
            "_view_count": null,
            "_view_module_version": "1.5.0",
            "orientation": "horizontal",
            "min": 0,
            "description_tooltip": null,
            "_model_module": "@jupyter-widgets/controls",
            "layout": "IPY_MODEL_6c0e95280a8a4d9c81330fd3803916c6"
          }
        },
        "7dda7aa60f0c4cfb8e6b50f4746018fe": {
          "model_module": "@jupyter-widgets/controls",
          "model_name": "HTMLModel",
          "state": {
            "_view_name": "HTMLView",
            "style": "IPY_MODEL_95ebdb9f8bf847d3b9f495caa63d3bed",
            "_dom_classes": [],
            "description": "",
            "_model_name": "HTMLModel",
            "placeholder": "​",
            "_view_module": "@jupyter-widgets/controls",
            "_model_module_version": "1.5.0",
            "value": " 232k/232k [00:01&lt;00:00, 181kB/s]",
            "_view_count": null,
            "_view_module_version": "1.5.0",
            "description_tooltip": null,
            "_model_module": "@jupyter-widgets/controls",
            "layout": "IPY_MODEL_4882a47f4f6c4da295355fe16b7c0b1f"
          }
        },
        "d2caf39e45c44243968d7a39ff4dfbf6": {
          "model_module": "@jupyter-widgets/controls",
          "model_name": "ProgressStyleModel",
          "state": {
            "_view_name": "StyleView",
            "_model_name": "ProgressStyleModel",
            "description_width": "initial",
            "_view_module": "@jupyter-widgets/base",
            "_model_module_version": "1.5.0",
            "_view_count": null,
            "_view_module_version": "1.2.0",
            "bar_color": null,
            "_model_module": "@jupyter-widgets/controls"
          }
        },
        "6c0e95280a8a4d9c81330fd3803916c6": {
          "model_module": "@jupyter-widgets/base",
          "model_name": "LayoutModel",
          "state": {
            "_view_name": "LayoutView",
            "grid_template_rows": null,
            "right": null,
            "justify_content": null,
            "_view_module": "@jupyter-widgets/base",
            "overflow": null,
            "_model_module_version": "1.2.0",
            "_view_count": null,
            "flex_flow": null,
            "width": null,
            "min_width": null,
            "border": null,
            "align_items": null,
            "bottom": null,
            "_model_module": "@jupyter-widgets/base",
            "top": null,
            "grid_column": null,
            "overflow_y": null,
            "overflow_x": null,
            "grid_auto_flow": null,
            "grid_area": null,
            "grid_template_columns": null,
            "flex": null,
            "_model_name": "LayoutModel",
            "justify_items": null,
            "grid_row": null,
            "max_height": null,
            "align_content": null,
            "visibility": null,
            "align_self": null,
            "height": null,
            "min_height": null,
            "padding": null,
            "grid_auto_rows": null,
            "grid_gap": null,
            "max_width": null,
            "order": null,
            "_view_module_version": "1.2.0",
            "grid_template_areas": null,
            "object_position": null,
            "object_fit": null,
            "grid_auto_columns": null,
            "margin": null,
            "display": null,
            "left": null
          }
        },
        "95ebdb9f8bf847d3b9f495caa63d3bed": {
          "model_module": "@jupyter-widgets/controls",
          "model_name": "DescriptionStyleModel",
          "state": {
            "_view_name": "StyleView",
            "_model_name": "DescriptionStyleModel",
            "description_width": "",
            "_view_module": "@jupyter-widgets/base",
            "_model_module_version": "1.5.0",
            "_view_count": null,
            "_view_module_version": "1.2.0",
            "_model_module": "@jupyter-widgets/controls"
          }
        },
        "4882a47f4f6c4da295355fe16b7c0b1f": {
          "model_module": "@jupyter-widgets/base",
          "model_name": "LayoutModel",
          "state": {
            "_view_name": "LayoutView",
            "grid_template_rows": null,
            "right": null,
            "justify_content": null,
            "_view_module": "@jupyter-widgets/base",
            "overflow": null,
            "_model_module_version": "1.2.0",
            "_view_count": null,
            "flex_flow": null,
            "width": null,
            "min_width": null,
            "border": null,
            "align_items": null,
            "bottom": null,
            "_model_module": "@jupyter-widgets/base",
            "top": null,
            "grid_column": null,
            "overflow_y": null,
            "overflow_x": null,
            "grid_auto_flow": null,
            "grid_area": null,
            "grid_template_columns": null,
            "flex": null,
            "_model_name": "LayoutModel",
            "justify_items": null,
            "grid_row": null,
            "max_height": null,
            "align_content": null,
            "visibility": null,
            "align_self": null,
            "height": null,
            "min_height": null,
            "padding": null,
            "grid_auto_rows": null,
            "grid_gap": null,
            "max_width": null,
            "order": null,
            "_view_module_version": "1.2.0",
            "grid_template_areas": null,
            "object_position": null,
            "object_fit": null,
            "grid_auto_columns": null,
            "margin": null,
            "display": null,
            "left": null
          }
        },
        "12874e7f8d144c8eb35b6ccba027a16b": {
          "model_module": "@jupyter-widgets/controls",
          "model_name": "HBoxModel",
          "state": {
            "_view_name": "HBoxView",
            "_dom_classes": [],
            "_model_name": "HBoxModel",
            "_view_module": "@jupyter-widgets/controls",
            "_model_module_version": "1.5.0",
            "_view_count": null,
            "_view_module_version": "1.5.0",
            "box_style": "",
            "layout": "IPY_MODEL_3f2b8ff96eed48e193bc0e53d22112d3",
            "_model_module": "@jupyter-widgets/controls",
            "children": [
              "IPY_MODEL_f97601ab55ad48a59eb8d00fc3768bc9",
              "IPY_MODEL_b7d0ca84ae6446bc8239f24da469aab3"
            ]
          }
        },
        "3f2b8ff96eed48e193bc0e53d22112d3": {
          "model_module": "@jupyter-widgets/base",
          "model_name": "LayoutModel",
          "state": {
            "_view_name": "LayoutView",
            "grid_template_rows": null,
            "right": null,
            "justify_content": null,
            "_view_module": "@jupyter-widgets/base",
            "overflow": null,
            "_model_module_version": "1.2.0",
            "_view_count": null,
            "flex_flow": null,
            "width": null,
            "min_width": null,
            "border": null,
            "align_items": null,
            "bottom": null,
            "_model_module": "@jupyter-widgets/base",
            "top": null,
            "grid_column": null,
            "overflow_y": null,
            "overflow_x": null,
            "grid_auto_flow": null,
            "grid_area": null,
            "grid_template_columns": null,
            "flex": null,
            "_model_name": "LayoutModel",
            "justify_items": null,
            "grid_row": null,
            "max_height": null,
            "align_content": null,
            "visibility": null,
            "align_self": null,
            "height": null,
            "min_height": null,
            "padding": null,
            "grid_auto_rows": null,
            "grid_gap": null,
            "max_width": null,
            "order": null,
            "_view_module_version": "1.2.0",
            "grid_template_areas": null,
            "object_position": null,
            "object_fit": null,
            "grid_auto_columns": null,
            "margin": null,
            "display": null,
            "left": null
          }
        },
        "f97601ab55ad48a59eb8d00fc3768bc9": {
          "model_module": "@jupyter-widgets/controls",
          "model_name": "FloatProgressModel",
          "state": {
            "_view_name": "ProgressView",
            "style": "IPY_MODEL_67a0d117bce247459dc75b6353679782",
            "_dom_classes": [],
            "description": "Downloading: 100%",
            "_model_name": "FloatProgressModel",
            "bar_style": "success",
            "max": 28,
            "_view_module": "@jupyter-widgets/controls",
            "_model_module_version": "1.5.0",
            "value": 28,
            "_view_count": null,
            "_view_module_version": "1.5.0",
            "orientation": "horizontal",
            "min": 0,
            "description_tooltip": null,
            "_model_module": "@jupyter-widgets/controls",
            "layout": "IPY_MODEL_03d0c4868cfe410aa2f9e0a3f2668282"
          }
        },
        "b7d0ca84ae6446bc8239f24da469aab3": {
          "model_module": "@jupyter-widgets/controls",
          "model_name": "HTMLModel",
          "state": {
            "_view_name": "HTMLView",
            "style": "IPY_MODEL_7d6624ac73e349108ac3a5458c053733",
            "_dom_classes": [],
            "description": "",
            "_model_name": "HTMLModel",
            "placeholder": "​",
            "_view_module": "@jupyter-widgets/controls",
            "_model_module_version": "1.5.0",
            "value": " 28.0/28.0 [00:00&lt;00:00, 35.5B/s]",
            "_view_count": null,
            "_view_module_version": "1.5.0",
            "description_tooltip": null,
            "_model_module": "@jupyter-widgets/controls",
            "layout": "IPY_MODEL_5fd9bedaf56f44508d43ef562ca0408e"
          }
        },
        "67a0d117bce247459dc75b6353679782": {
          "model_module": "@jupyter-widgets/controls",
          "model_name": "ProgressStyleModel",
          "state": {
            "_view_name": "StyleView",
            "_model_name": "ProgressStyleModel",
            "description_width": "initial",
            "_view_module": "@jupyter-widgets/base",
            "_model_module_version": "1.5.0",
            "_view_count": null,
            "_view_module_version": "1.2.0",
            "bar_color": null,
            "_model_module": "@jupyter-widgets/controls"
          }
        },
        "03d0c4868cfe410aa2f9e0a3f2668282": {
          "model_module": "@jupyter-widgets/base",
          "model_name": "LayoutModel",
          "state": {
            "_view_name": "LayoutView",
            "grid_template_rows": null,
            "right": null,
            "justify_content": null,
            "_view_module": "@jupyter-widgets/base",
            "overflow": null,
            "_model_module_version": "1.2.0",
            "_view_count": null,
            "flex_flow": null,
            "width": null,
            "min_width": null,
            "border": null,
            "align_items": null,
            "bottom": null,
            "_model_module": "@jupyter-widgets/base",
            "top": null,
            "grid_column": null,
            "overflow_y": null,
            "overflow_x": null,
            "grid_auto_flow": null,
            "grid_area": null,
            "grid_template_columns": null,
            "flex": null,
            "_model_name": "LayoutModel",
            "justify_items": null,
            "grid_row": null,
            "max_height": null,
            "align_content": null,
            "visibility": null,
            "align_self": null,
            "height": null,
            "min_height": null,
            "padding": null,
            "grid_auto_rows": null,
            "grid_gap": null,
            "max_width": null,
            "order": null,
            "_view_module_version": "1.2.0",
            "grid_template_areas": null,
            "object_position": null,
            "object_fit": null,
            "grid_auto_columns": null,
            "margin": null,
            "display": null,
            "left": null
          }
        },
        "7d6624ac73e349108ac3a5458c053733": {
          "model_module": "@jupyter-widgets/controls",
          "model_name": "DescriptionStyleModel",
          "state": {
            "_view_name": "StyleView",
            "_model_name": "DescriptionStyleModel",
            "description_width": "",
            "_view_module": "@jupyter-widgets/base",
            "_model_module_version": "1.5.0",
            "_view_count": null,
            "_view_module_version": "1.2.0",
            "_model_module": "@jupyter-widgets/controls"
          }
        },
        "5fd9bedaf56f44508d43ef562ca0408e": {
          "model_module": "@jupyter-widgets/base",
          "model_name": "LayoutModel",
          "state": {
            "_view_name": "LayoutView",
            "grid_template_rows": null,
            "right": null,
            "justify_content": null,
            "_view_module": "@jupyter-widgets/base",
            "overflow": null,
            "_model_module_version": "1.2.0",
            "_view_count": null,
            "flex_flow": null,
            "width": null,
            "min_width": null,
            "border": null,
            "align_items": null,
            "bottom": null,
            "_model_module": "@jupyter-widgets/base",
            "top": null,
            "grid_column": null,
            "overflow_y": null,
            "overflow_x": null,
            "grid_auto_flow": null,
            "grid_area": null,
            "grid_template_columns": null,
            "flex": null,
            "_model_name": "LayoutModel",
            "justify_items": null,
            "grid_row": null,
            "max_height": null,
            "align_content": null,
            "visibility": null,
            "align_self": null,
            "height": null,
            "min_height": null,
            "padding": null,
            "grid_auto_rows": null,
            "grid_gap": null,
            "max_width": null,
            "order": null,
            "_view_module_version": "1.2.0",
            "grid_template_areas": null,
            "object_position": null,
            "object_fit": null,
            "grid_auto_columns": null,
            "margin": null,
            "display": null,
            "left": null
          }
        },
        "837c7055bb7143a79c0a5a3d57112192": {
          "model_module": "@jupyter-widgets/controls",
          "model_name": "HBoxModel",
          "state": {
            "_view_name": "HBoxView",
            "_dom_classes": [],
            "_model_name": "HBoxModel",
            "_view_module": "@jupyter-widgets/controls",
            "_model_module_version": "1.5.0",
            "_view_count": null,
            "_view_module_version": "1.5.0",
            "box_style": "",
            "layout": "IPY_MODEL_e734ad74b53c4a798865aadddb484c3d",
            "_model_module": "@jupyter-widgets/controls",
            "children": [
              "IPY_MODEL_c3e6ad40b5694b2e893bf81101c79875",
              "IPY_MODEL_11dc15388ddc4515960eb5a5dc658067"
            ]
          }
        },
        "e734ad74b53c4a798865aadddb484c3d": {
          "model_module": "@jupyter-widgets/base",
          "model_name": "LayoutModel",
          "state": {
            "_view_name": "LayoutView",
            "grid_template_rows": null,
            "right": null,
            "justify_content": null,
            "_view_module": "@jupyter-widgets/base",
            "overflow": null,
            "_model_module_version": "1.2.0",
            "_view_count": null,
            "flex_flow": null,
            "width": null,
            "min_width": null,
            "border": null,
            "align_items": null,
            "bottom": null,
            "_model_module": "@jupyter-widgets/base",
            "top": null,
            "grid_column": null,
            "overflow_y": null,
            "overflow_x": null,
            "grid_auto_flow": null,
            "grid_area": null,
            "grid_template_columns": null,
            "flex": null,
            "_model_name": "LayoutModel",
            "justify_items": null,
            "grid_row": null,
            "max_height": null,
            "align_content": null,
            "visibility": null,
            "align_self": null,
            "height": null,
            "min_height": null,
            "padding": null,
            "grid_auto_rows": null,
            "grid_gap": null,
            "max_width": null,
            "order": null,
            "_view_module_version": "1.2.0",
            "grid_template_areas": null,
            "object_position": null,
            "object_fit": null,
            "grid_auto_columns": null,
            "margin": null,
            "display": null,
            "left": null
          }
        },
        "c3e6ad40b5694b2e893bf81101c79875": {
          "model_module": "@jupyter-widgets/controls",
          "model_name": "FloatProgressModel",
          "state": {
            "_view_name": "ProgressView",
            "style": "IPY_MODEL_23a01f8ef4204848b2d1d36d9dc6bb6b",
            "_dom_classes": [],
            "description": "Downloading: 100%",
            "_model_name": "FloatProgressModel",
            "bar_style": "success",
            "max": 466062,
            "_view_module": "@jupyter-widgets/controls",
            "_model_module_version": "1.5.0",
            "value": 466062,
            "_view_count": null,
            "_view_module_version": "1.5.0",
            "orientation": "horizontal",
            "min": 0,
            "description_tooltip": null,
            "_model_module": "@jupyter-widgets/controls",
            "layout": "IPY_MODEL_5dd8071327ec4602a8a8ee472f88c7fc"
          }
        },
        "11dc15388ddc4515960eb5a5dc658067": {
          "model_module": "@jupyter-widgets/controls",
          "model_name": "HTMLModel",
          "state": {
            "_view_name": "HTMLView",
            "style": "IPY_MODEL_51ab0d460eca412dbeea34f1f542d27e",
            "_dom_classes": [],
            "description": "",
            "_model_name": "HTMLModel",
            "placeholder": "​",
            "_view_module": "@jupyter-widgets/controls",
            "_model_module_version": "1.5.0",
            "value": " 466k/466k [00:00&lt;00:00, 2.81MB/s]",
            "_view_count": null,
            "_view_module_version": "1.5.0",
            "description_tooltip": null,
            "_model_module": "@jupyter-widgets/controls",
            "layout": "IPY_MODEL_50acf3a27a424206b46652988849ef01"
          }
        },
        "23a01f8ef4204848b2d1d36d9dc6bb6b": {
          "model_module": "@jupyter-widgets/controls",
          "model_name": "ProgressStyleModel",
          "state": {
            "_view_name": "StyleView",
            "_model_name": "ProgressStyleModel",
            "description_width": "initial",
            "_view_module": "@jupyter-widgets/base",
            "_model_module_version": "1.5.0",
            "_view_count": null,
            "_view_module_version": "1.2.0",
            "bar_color": null,
            "_model_module": "@jupyter-widgets/controls"
          }
        },
        "5dd8071327ec4602a8a8ee472f88c7fc": {
          "model_module": "@jupyter-widgets/base",
          "model_name": "LayoutModel",
          "state": {
            "_view_name": "LayoutView",
            "grid_template_rows": null,
            "right": null,
            "justify_content": null,
            "_view_module": "@jupyter-widgets/base",
            "overflow": null,
            "_model_module_version": "1.2.0",
            "_view_count": null,
            "flex_flow": null,
            "width": null,
            "min_width": null,
            "border": null,
            "align_items": null,
            "bottom": null,
            "_model_module": "@jupyter-widgets/base",
            "top": null,
            "grid_column": null,
            "overflow_y": null,
            "overflow_x": null,
            "grid_auto_flow": null,
            "grid_area": null,
            "grid_template_columns": null,
            "flex": null,
            "_model_name": "LayoutModel",
            "justify_items": null,
            "grid_row": null,
            "max_height": null,
            "align_content": null,
            "visibility": null,
            "align_self": null,
            "height": null,
            "min_height": null,
            "padding": null,
            "grid_auto_rows": null,
            "grid_gap": null,
            "max_width": null,
            "order": null,
            "_view_module_version": "1.2.0",
            "grid_template_areas": null,
            "object_position": null,
            "object_fit": null,
            "grid_auto_columns": null,
            "margin": null,
            "display": null,
            "left": null
          }
        },
        "51ab0d460eca412dbeea34f1f542d27e": {
          "model_module": "@jupyter-widgets/controls",
          "model_name": "DescriptionStyleModel",
          "state": {
            "_view_name": "StyleView",
            "_model_name": "DescriptionStyleModel",
            "description_width": "",
            "_view_module": "@jupyter-widgets/base",
            "_model_module_version": "1.5.0",
            "_view_count": null,
            "_view_module_version": "1.2.0",
            "_model_module": "@jupyter-widgets/controls"
          }
        },
        "50acf3a27a424206b46652988849ef01": {
          "model_module": "@jupyter-widgets/base",
          "model_name": "LayoutModel",
          "state": {
            "_view_name": "LayoutView",
            "grid_template_rows": null,
            "right": null,
            "justify_content": null,
            "_view_module": "@jupyter-widgets/base",
            "overflow": null,
            "_model_module_version": "1.2.0",
            "_view_count": null,
            "flex_flow": null,
            "width": null,
            "min_width": null,
            "border": null,
            "align_items": null,
            "bottom": null,
            "_model_module": "@jupyter-widgets/base",
            "top": null,
            "grid_column": null,
            "overflow_y": null,
            "overflow_x": null,
            "grid_auto_flow": null,
            "grid_area": null,
            "grid_template_columns": null,
            "flex": null,
            "_model_name": "LayoutModel",
            "justify_items": null,
            "grid_row": null,
            "max_height": null,
            "align_content": null,
            "visibility": null,
            "align_self": null,
            "height": null,
            "min_height": null,
            "padding": null,
            "grid_auto_rows": null,
            "grid_gap": null,
            "max_width": null,
            "order": null,
            "_view_module_version": "1.2.0",
            "grid_template_areas": null,
            "object_position": null,
            "object_fit": null,
            "grid_auto_columns": null,
            "margin": null,
            "display": null,
            "left": null
          }
        }
      }
    }
  },
  "cells": [
    {
      "cell_type": "code",
      "metadata": {
        "id": "WTLqurd0RjPo"
      },
      "source": [
        "!pip install transformers"
      ],
      "execution_count": null,
      "outputs": []
    },
    {
      "cell_type": "code",
      "metadata": {
        "colab": {
          "base_uri": "https://localhost:8080/"
        },
        "id": "CSekEInpV6za",
        "outputId": "ff1f4fa9-9327-41ac-99ef-2d1dd97765e3"
      },
      "source": [
        "import pickle\n",
        "import pandas as pd\n",
        "import numpy as np\n",
        "import csv\n",
        "import time\n",
        "import torch\n",
        "from torchtext.legacy import data \n",
        "from torch.utils.data import DataLoader, Dataset\n",
        "from torch.utils.data.sampler import SubsetRandomSampler\n",
        "import torch.optim as optim\n",
        "import torch.nn as nn\n",
        "import torch.nn.functional as F\n",
        "from transformers import BertTokenizer\n",
        "\n",
        "from google.colab import drive\n",
        "drive.mount('/content/drive', force_remount=True)\n",
        "import os\n",
        "# this should be changed depending the address for you\n",
        "os.chdir('/content/drive/MyDrive/LTP - myside/') \n",
        "\n",
        "## using cuda if available\n",
        "if torch.cuda.is_available():\n",
        "  device = torch.device(\"cuda\")\n",
        "else:\n",
        "  device = torch.device(\"cpu\")\n",
        "\n",
        "def read_pickle_file(filename):\n",
        "    with open(filename, 'rb') as f:\n",
        "        x = pickle.load(f)\n",
        "\n",
        "    return x\n",
        "X_train = read_pickle_file(\"./data/X_train.pickle\")\n",
        "X_test = read_pickle_file(\"./data/X_test.pickle\")\n",
        "y_train = read_pickle_file(\"./data/y_train.pickle\")\n",
        "y_test = read_pickle_file(\"./data/y_test.pickle\")\n",
        "\n",
        "\n",
        "#Reproducing same results\n",
        "SEED = 2019\n",
        "\n",
        "#Torch\n",
        "torch.manual_seed(SEED)\n",
        "\n",
        "d = {'text':X_train,'label':y_train}\n",
        "train_df = pd.DataFrame(d)\n",
        "train_df = train_df.sample(frac = 1, random_state=SEED)\n",
        "print(train_df)\n",
        "train_df.to_csv(r'train.csv')"
      ],
      "execution_count": 3,
      "outputs": [
        {
          "output_type": "stream",
          "text": [
            "Mounted at /content/drive\n",
            "                                                    text  label\n",
            "4381   Look Before You Leap, But Having Leapt Never L...      0\n",
            "11946  In the struggle , the building catches fire an...      0\n",
            "1996   The History Channel +1. Where History repeats ...      1\n",
            "10488  It has a subdorsal row of white spots ringed w...      0\n",
            "5674   Arab-Israeli lawmakers suspended for meeting f...      0\n",
            "...                                                  ...    ...\n",
            "4286              He That Will Thrive, Must Rise At Five      0\n",
            "12069  Three of its number 1 hits , `` End of the Roa...      0\n",
            "11423  Born in 1048 CE and originating from Nisa , he...      0\n",
            "10610  However , stream ciphers can be susceptible to...      0\n",
            "7240   Proposals to keep Britain in EU unveiled, but ...      0\n",
            "\n",
            "[13409 rows x 2 columns]\n"
          ],
          "name": "stdout"
        }
      ]
    },
    {
      "cell_type": "code",
      "metadata": {
        "colab": {
          "base_uri": "https://localhost:8080/"
        },
        "id": "zL1CnfM3RUs0",
        "outputId": "8d86589e-3ebe-4e31-a206-f87528c8a6dd"
      },
      "source": [
        "print(type(X_train[0]))\n",
        "print(type(y_train[0]))"
      ],
      "execution_count": null,
      "outputs": [
        {
          "output_type": "stream",
          "text": [
            "<class 'numpy.str_'>\n",
            "<class 'int'>\n"
          ],
          "name": "stdout"
        }
      ]
    },
    {
      "cell_type": "code",
      "metadata": {
        "id": "4rXVt_vORYqq"
      },
      "source": [
        "with open('train.csv', 'r') as file:\n",
        "    reader = csv.reader(file)\n",
        "    row_count = sum(1 for row in reader)\n",
        "    print(row_count)\n",
        "\n",
        "\n",
        "X_train = []\n",
        "y_train = []\n",
        "X_eval = []\n",
        "y_eval = []\n",
        "\n",
        "with open('train.csv', 'r') as file:\n",
        "    reader = csv.reader(file)\n",
        "    row_num = 0\n",
        "    for row in reader:\n",
        "      # print(row_num)\n",
        "      if row_num == 0:\n",
        "        print(f'Column names are {\", \".join(row)}')\n",
        "      elif row_num < 0.8*row_count:\n",
        "        X_train.append(row[1])\n",
        "        y_train.append(int(row[2]))\n",
        "      else:\n",
        "        X_eval.append(row[1])\n",
        "        y_eval.append(int(row[2]))\n",
        "      row_num += 1\n",
        "        \n"
      ],
      "execution_count": null,
      "outputs": []
    },
    {
      "cell_type": "code",
      "metadata": {
        "id": "8zpaheppRetx"
      },
      "source": [
        "print(type(X_train[0]))\n",
        "print(type(y_train[0]))\n",
        "print(X_train)\n",
        "print(y_train)\n",
        "\n",
        "print(X_train[0])\n",
        "print(y_train[0])"
      ],
      "execution_count": null,
      "outputs": []
    },
    {
      "cell_type": "code",
      "metadata": {
        "id": "88ggkZdoRhBL"
      },
      "source": [
        "print(type(X_eval[0]))\n",
        "print(type(y_eval[0]))\n",
        "print(X_eval)\n",
        "print(y_eval)\n",
        "\n",
        "print(X_eval[0])\n",
        "print(y_eval[0])"
      ],
      "execution_count": null,
      "outputs": []
    },
    {
      "cell_type": "code",
      "metadata": {
        "id": "nCnjOY_VRqgK"
      },
      "source": [
        "class HumorDataset(Dataset):\n",
        "  def __init__(self, text_data, input_labels, tokenizer):\n",
        "        super().__init__()\n",
        "        \n",
        "        data = []\n",
        "        labels = []\n",
        "        ## to be changed if needed\n",
        "        ## to be changed if needed\n",
        "        max_length = 207\n",
        "        self.max_length = max_length\n",
        "\n",
        "        for i, sample in enumerate(text_data):\n",
        "          tokens = tokenizer.tokenize(sample)\n",
        "          data_idxs = tokenizer.encode(sample)\n",
        "          \n",
        "          padded = np.zeros(max_length)\n",
        "          if max_length < 207 and len(data_idxs) > max_length:\n",
        "            padded = data_idxs[:max_length]\n",
        "          else:\n",
        "            padded[:len(data_idxs)] = data_idxs\n",
        "          \n",
        "          data.append(padded)\n",
        "          \n",
        "          labels.append(input_labels[i])\n",
        "          \n",
        "        self.data = torch.tensor(data, dtype=torch.long)\n",
        "        self.labels = torch.tensor(labels, dtype=torch.long)\n",
        "\n",
        "  def __getitem__(self, index):\n",
        "        return self.data[index], self.labels[index]\n",
        "\n",
        "  def __len__(self):\n",
        "        return len(self.data)"
      ],
      "execution_count": 5,
      "outputs": []
    },
    {
      "cell_type": "code",
      "metadata": {
        "id": "5IB-4ZLHRx_j",
        "colab": {
          "base_uri": "https://localhost:8080/",
          "height": 164,
          "referenced_widgets": [
            "079ff482c9ac44b6a94fe99686d57f61",
            "30c86d215cc44ea8959c2987ab6ba447",
            "2bff5ea7af904740a7fab5a752810a02",
            "7dda7aa60f0c4cfb8e6b50f4746018fe",
            "d2caf39e45c44243968d7a39ff4dfbf6",
            "6c0e95280a8a4d9c81330fd3803916c6",
            "95ebdb9f8bf847d3b9f495caa63d3bed",
            "4882a47f4f6c4da295355fe16b7c0b1f",
            "12874e7f8d144c8eb35b6ccba027a16b",
            "3f2b8ff96eed48e193bc0e53d22112d3",
            "f97601ab55ad48a59eb8d00fc3768bc9",
            "b7d0ca84ae6446bc8239f24da469aab3",
            "67a0d117bce247459dc75b6353679782",
            "03d0c4868cfe410aa2f9e0a3f2668282",
            "7d6624ac73e349108ac3a5458c053733",
            "5fd9bedaf56f44508d43ef562ca0408e",
            "837c7055bb7143a79c0a5a3d57112192",
            "e734ad74b53c4a798865aadddb484c3d",
            "c3e6ad40b5694b2e893bf81101c79875",
            "11dc15388ddc4515960eb5a5dc658067",
            "23a01f8ef4204848b2d1d36d9dc6bb6b",
            "5dd8071327ec4602a8a8ee472f88c7fc",
            "51ab0d460eca412dbeea34f1f542d27e",
            "50acf3a27a424206b46652988849ef01"
          ]
        },
        "outputId": "cf9867cd-bbe1-48c0-d0da-c3dd62eb3fc3"
      },
      "source": [
        "pretrained = 'bert-base-uncased'\n",
        "tokenizer = BertTokenizer.from_pretrained(pretrained)\n",
        "tokenizer.do_basic_tokenize = False"
      ],
      "execution_count": 6,
      "outputs": [
        {
          "output_type": "display_data",
          "data": {
            "application/vnd.jupyter.widget-view+json": {
              "model_id": "079ff482c9ac44b6a94fe99686d57f61",
              "version_minor": 0,
              "version_major": 2
            },
            "text/plain": [
              "HBox(children=(FloatProgress(value=0.0, description='Downloading', max=231508.0, style=ProgressStyle(descripti…"
            ]
          },
          "metadata": {
            "tags": []
          }
        },
        {
          "output_type": "stream",
          "text": [
            "\n"
          ],
          "name": "stdout"
        },
        {
          "output_type": "display_data",
          "data": {
            "application/vnd.jupyter.widget-view+json": {
              "model_id": "12874e7f8d144c8eb35b6ccba027a16b",
              "version_minor": 0,
              "version_major": 2
            },
            "text/plain": [
              "HBox(children=(FloatProgress(value=0.0, description='Downloading', max=28.0, style=ProgressStyle(description_w…"
            ]
          },
          "metadata": {
            "tags": []
          }
        },
        {
          "output_type": "stream",
          "text": [
            "\n"
          ],
          "name": "stdout"
        },
        {
          "output_type": "display_data",
          "data": {
            "application/vnd.jupyter.widget-view+json": {
              "model_id": "837c7055bb7143a79c0a5a3d57112192",
              "version_minor": 0,
              "version_major": 2
            },
            "text/plain": [
              "HBox(children=(FloatProgress(value=0.0, description='Downloading', max=466062.0, style=ProgressStyle(descripti…"
            ]
          },
          "metadata": {
            "tags": []
          }
        },
        {
          "output_type": "stream",
          "text": [
            "\n"
          ],
          "name": "stdout"
        }
      ]
    },
    {
      "cell_type": "code",
      "metadata": {
        "id": "wj8s0wS4R16k"
      },
      "source": [
        "#set batch size\n",
        "BATCH_SIZE = 64"
      ],
      "execution_count": 7,
      "outputs": []
    },
    {
      "cell_type": "code",
      "metadata": {
        "id": "oBoZpvzPR8op"
      },
      "source": [
        "train_dataset = HumorDataset(X_train, y_train, tokenizer)"
      ],
      "execution_count": 8,
      "outputs": []
    },
    {
      "cell_type": "code",
      "metadata": {
        "id": "SamYrv5RSIK-"
      },
      "source": [
        "train_loader = DataLoader(train_dataset,\n",
        "        shuffle=True,\n",
        "        batch_size=BATCH_SIZE)"
      ],
      "execution_count": 9,
      "outputs": []
    },
    {
      "cell_type": "code",
      "metadata": {
        "id": "KW1vGpl5WibZ"
      },
      "source": [
        "class NN(nn.Module):\n",
        "    \"\"\" The neural network that will be used \"\"\"\n",
        "\n",
        "    def __init__(self, vocab_size, input_dim, output_dim, embedding_size=100):\n",
        "        \"\"\"\n",
        "        Args:\n",
        "            input_dim (int): size of the input features\n",
        "            vocab_size : vocabulary size\n",
        "            output_dim (int): number of classes\n",
        "        \"\"\"\n",
        "        \n",
        "\n",
        "        super(NN, self).__init__()\n",
        "\n",
        "        # model architecture\n",
        "        \n",
        "\n",
        "        self.embedding = nn.Embedding(num_embeddings=vocab_size, embedding_dim=embedding_size)\n",
        "        \n",
        "        ## just for concatenation method - if using other methods in the forward section, comment the following line\n",
        "        # embedding_size = input_dim*embedding_size\n",
        "\n",
        "        ## one layer network\n",
        "        # self.fc1 = nn.Linear(embedding_size, output_dim)\n",
        "\n",
        "        # multilayer network - in this case comment the prevous line and uncomment the following\n",
        "        # I used them but they don't increase the accuracy significanlty\n",
        "        self.fc1 = nn.Linear(embedding_size, 32)\n",
        "        self.fc2 = nn.Linear(32, output_dim)\n",
        "        # self.fc3 = nn.Linear(32, output_dim)\n",
        "        \n",
        "\n",
        "        # self.fc1 = nn.Linear(embedding_size, 128)\n",
        "        # self.fc2 = nn.Linear(128, 64)\n",
        "        # self.fc3 = nn.Linear(64, 32)\n",
        "        # self.fc4 = nn.Linear(32, output_dim)\n",
        "        # self.fc3 = nn.Linear(300, 100)\n",
        "        # self.fc4 = nn.Linear(100, output_dim)\n",
        "\n",
        "        self.embedding_size = embedding_size\n",
        "        \n",
        "        \n",
        "\n",
        "    def forward(self, x):\n",
        "        \"\"\"The forward pass of the NN\n",
        "\n",
        "        Args:\n",
        "            x (torch.Tensor): an input data tensor. \n",
        "                x.shape should be (batch_size, input_dim)\n",
        "        Returns:\n",
        "            the resulting tensor. tensor.shape should be (batch_size, num_classes)\n",
        "        \"\"\"\n",
        "\n",
        "        ## here are several methods for embedding layer\n",
        "        ## for method \"sum\" got accuracy 0.7563 after 10 epochs\n",
        "        # x_embedded_sum = self.embedding(x).sum(dim=1)\n",
        "\n",
        "        ## for \"mean\" got accuracy 0.7773 after 10 epochs\n",
        "        x_embedded = self.embedding(x).mean(dim=1)\n",
        "        \n",
        "        ## for \"concat\" got accuracy 0.8336 after 7 epochs and then decreased - still the highest I got! so I kept it!\n",
        "        # x_embedded = self.embedding(x).view(100, self.embedding_size)\n",
        "\n",
        "        x = self.fc1(x_embedded)\n",
        "        \n",
        "        # multilayer network - in this case comment the prevous line and uncomment the following\n",
        "        x = torch.relu(x)\n",
        "        x = self.fc2(x)\n",
        "        # x = torch.tanh(x)\n",
        "        # x = self.fc3(x)\n",
        "        # x = torch.tanh(x)\n",
        "        # x = self.fc4(x)\n",
        "\n",
        "\n",
        "        x = torch.sigmoid(x)\n",
        "        \n",
        "        return x\n",
        "    \n",
        "    def print_params(self):\n",
        "        \"\"\"Print the parameters (theta) of the network. Mainly for debugging purposes\"\"\"\n",
        "        for name, param in model.named_parameters():\n",
        "            print(name, param.data)"
      ],
      "execution_count": 11,
      "outputs": []
    },
    {
      "cell_type": "code",
      "metadata": {
        "colab": {
          "base_uri": "https://localhost:8080/"
        },
        "id": "g_kotvhKLyJO",
        "outputId": "282c8f44-be5e-447b-f8d8-7ba7d26d75ce"
      },
      "source": [
        "print(train_dataset.labels)\n",
        "print(train_dataset.labels.shape)"
      ],
      "execution_count": 82,
      "outputs": [
        {
          "output_type": "stream",
          "text": [
            "tensor([0, 0, 1,  ..., 0, 1, 0])\n",
            "torch.Size([10727])\n"
          ],
          "name": "stdout"
        }
      ]
    },
    {
      "cell_type": "code",
      "metadata": {
        "colab": {
          "base_uri": "https://localhost:8080/"
        },
        "id": "WGeQPqnjbZnw",
        "outputId": "562cb2e6-688d-419c-b029-1c861a89b283"
      },
      "source": [
        "from tensorflow import reduce_max\n",
        "vocab_size = reduce_max(train_dataset.data)\n",
        "print(vocab_size)"
      ],
      "execution_count": 71,
      "outputs": [
        {
          "output_type": "stream",
          "text": [
            "tf.Tensor(30064, shape=(), dtype=int64)\n"
          ],
          "name": "stdout"
        }
      ]
    },
    {
      "cell_type": "code",
      "metadata": {
        "id": "88bRf4fv_zih"
      },
      "source": [
        "#define hyperparameters\n",
        "size_of_vocab = 30065\n",
        "embedding_dim = 100\n",
        "num_output_nodes = 1\n",
        "\n",
        "# instantiate the model\n",
        "model = NN(size_of_vocab, 50, num_output_nodes, embedding_dim)"
      ],
      "execution_count": 12,
      "outputs": []
    },
    {
      "cell_type": "code",
      "metadata": {
        "colab": {
          "base_uri": "https://localhost:8080/"
        },
        "id": "HogNvdVl_38N",
        "outputId": "5347dd10-cd76-49dc-ab63-794c3f88f667"
      },
      "source": [
        "#architecture\n",
        "print(model)\n",
        "\n",
        "#No. of trianable parameters\n",
        "def count_parameters(model):\n",
        "    return sum(p.numel() for p in model.parameters() if p.requires_grad)\n",
        "    \n",
        "print(f'The model has {count_parameters(model):,} trainable parameters')"
      ],
      "execution_count": 13,
      "outputs": [
        {
          "output_type": "stream",
          "text": [
            "NN(\n",
            "  (embedding): Embedding(30065, 100)\n",
            "  (fc1): Linear(in_features=100, out_features=32, bias=True)\n",
            "  (fc2): Linear(in_features=32, out_features=1, bias=True)\n",
            ")\n",
            "The model has 3,009,765 trainable parameters\n"
          ],
          "name": "stdout"
        }
      ]
    },
    {
      "cell_type": "code",
      "metadata": {
        "id": "4ijllqB-T0S4"
      },
      "source": [
        "#define optimizer and loss\n",
        "optimizer = optim.Adam(model.parameters())\n",
        "criterion = nn.BCELoss()\n",
        "\n",
        "#define metric\n",
        "def binary_accuracy(preds, y):\n",
        "    correct = 0.0\n",
        "    total = 0.0\n",
        "    for k in range (0, len(y)):\n",
        "      output = torch.round(preds[k])\n",
        "      \n",
        "      if output==y[k]:\n",
        "        correct += 1\n",
        "    acc = correct/len(y)\n",
        "    return acc\n",
        "    \n",
        "#push to cuda if available\n",
        "# model = model.to(device)\n",
        "# criterion = criterion.to(device)"
      ],
      "execution_count": 14,
      "outputs": []
    },
    {
      "cell_type": "code",
      "metadata": {
        "id": "unUtDLyjUSlv"
      },
      "source": [
        "def train(model, iterator, optimizer):\n",
        "    \n",
        "    #initialize every epoch \n",
        "    epoch_loss = 0\n",
        "    epoch_acc = 0\n",
        "    \n",
        "    #set the model in training phase\n",
        "    model.train()\n",
        "\n",
        "    for i, batch in enumerate(iterator):\n",
        "        data, labels = batch\n",
        "\n",
        "        optimizer.zero_grad() \n",
        "        data = data.to(device)\n",
        "        labels = labels.to(device)\n",
        "        \n",
        "        outputs = model(data)\n",
        "\n",
        "        #compute the loss\n",
        "        loss = criterion(outputs.squeeze(), labels.float())        \n",
        "        \n",
        "        #compute the binary accuracy\n",
        "        acc = binary_accuracy(outputs, labels)\n",
        " \n",
        "        loss.backward()       \n",
        "        \n",
        "        #update the weights\n",
        "        optimizer.step()      \n",
        "        \n",
        "        #loss and accuracy\n",
        "        epoch_loss += loss\n",
        "        epoch_acc += acc\n",
        "        \n",
        "    return epoch_loss/len(iterator), epoch_acc/len(iterator)"
      ],
      "execution_count": 87,
      "outputs": []
    },
    {
      "cell_type": "code",
      "metadata": {
        "id": "fux8gfc0UU27"
      },
      "source": [
        "def evaluate(model, iterator):\n",
        "    \n",
        "    #initialize every epoch\n",
        "    epoch_loss = 0\n",
        "    epoch_acc = 0\n",
        "\n",
        "    #deactivating dropout layers\n",
        "    model.eval()\n",
        "    \n",
        "    #deactivates autograd\n",
        "    with torch.no_grad():\n",
        "    \n",
        "        for i, batch in enumerate(iterator):\n",
        "            data, labels = batch\n",
        "            data = data.to(device)\n",
        "            labels = labels.to(device)\n",
        "            outputs = model(data)\n",
        "            \n",
        "            #compute loss and accuracy\n",
        "            loss = criterion(outputs.squeeze(), labels.float())\n",
        "            acc = binary_accuracy(outputs, labels)\n",
        "            \n",
        "            #keep track of loss and accuracy\n",
        "            epoch_loss += loss\n",
        "            epoch_acc += acc\n",
        "        \n",
        "\n",
        "    return epoch_loss/len(iterator), epoch_acc/len(iterator)"
      ],
      "execution_count": 16,
      "outputs": []
    },
    {
      "cell_type": "code",
      "metadata": {
        "id": "CEOM8owbS2MM",
        "colab": {
          "base_uri": "https://localhost:8080/"
        },
        "outputId": "e3f5009d-34dc-4c25-c3d3-3fb29e4f13a8"
      },
      "source": [
        "N_EPOCHS = 5\n",
        "best_valid_loss = float('inf')\n",
        "## pushing to cuda\n",
        "model = model.to(device)  \n",
        "\n",
        "eval_dataset = HumorDataset(X_eval, y_eval, tokenizer)\n",
        "eval_loader = DataLoader(eval_dataset,\n",
        "      shuffle=True,\n",
        "      batch_size=BATCH_SIZE)\n",
        "\n",
        "for epoch in range(N_EPOCHS):\n",
        "     \n",
        "    \n",
        "    # store starting time (training)\n",
        "    begin = time.time()\n",
        "\n",
        "    #train the model\n",
        "    train_loss, train_acc = train(model, train_loader, optimizer)\n",
        "\n",
        "    # store end time (training)\n",
        "    end = time.time()\n",
        "\n",
        "    # print train time\n",
        "    print(f\"Train time is {end - begin}\")\n",
        "    \n",
        "    # evaluate the model\n",
        "    valid_loss, valid_acc = evaluate(model, eval_loader)\n",
        "    \n",
        "    # save the best model\n",
        "    if valid_loss < best_valid_loss:\n",
        "        best_valid_loss = valid_loss\n",
        "        torch.save(model.state_dict(), 'saved_weights_ff.pt')\n",
        "    \n",
        "    print(f'\\tTrain Loss: {train_loss:.3f} | Train Acc: {train_acc*100:.2f}%')\n",
        "    print(f'\\t Val. Loss: {valid_loss:.3f} |  Val. Acc: {valid_acc*100:.2f}%')"
      ],
      "execution_count": 145,
      "outputs": [
        {
          "output_type": "stream",
          "text": [
            "Train time is 1.845066785812378\n",
            "\tTrain Loss: 0.619 | Train Acc: 68.43%\n",
            "\t Val. Loss: 0.609 |  Val. Acc: 69.62%\n",
            "Train time is 1.8465771675109863\n",
            "\tTrain Loss: 0.409 | Train Acc: 81.01%\n",
            "\t Val. Loss: 0.161 |  Val. Acc: 94.59%\n",
            "Train time is 1.865164041519165\n",
            "\tTrain Loss: 0.139 | Train Acc: 95.13%\n",
            "\t Val. Loss: 0.132 |  Val. Acc: 95.16%\n",
            "Train time is 1.8253333568572998\n",
            "\tTrain Loss: 0.115 | Train Acc: 95.63%\n",
            "\t Val. Loss: 0.208 |  Val. Acc: 92.46%\n",
            "Train time is 1.837141752243042\n",
            "\tTrain Loss: 0.106 | Train Acc: 96.10%\n",
            "\t Val. Loss: 0.166 |  Val. Acc: 94.02%\n"
          ],
          "name": "stdout"
        }
      ]
    },
    {
      "cell_type": "code",
      "metadata": {
        "id": "_nlwVyYPUlJU",
        "colab": {
          "base_uri": "https://localhost:8080/"
        },
        "outputId": "163fdae8-5cce-445c-b137-b2ef28f0a255"
      },
      "source": [
        "#load weights\n",
        "path='saved_weights_ff.pt'\n",
        "model.load_state_dict(torch.load(path));\n",
        "model = model.to(device) \n",
        "\n",
        "test_dataset = HumorDataset(X_test, y_test, tokenizer)\n",
        "test_loader = DataLoader(test_dataset,\n",
        "      shuffle=True,\n",
        "      # collate_fn=padding_collate_fn,\n",
        "      batch_size=BATCH_SIZE)\n",
        "\n",
        "test_loss, test_acc = evaluate(model, test_loader)\n",
        "print(f'\\tTest Loss: {test_loss:.3f} | Test Acc: {test_acc*100:.2f}%')"
      ],
      "execution_count": 17,
      "outputs": [
        {
          "output_type": "stream",
          "text": [
            "\tTest Loss: 0.157 | Test Acc: 94.80%\n"
          ],
          "name": "stdout"
        }
      ]
    },
    {
      "cell_type": "code",
      "metadata": {
        "colab": {
          "base_uri": "https://localhost:8080/",
          "height": 328
        },
        "id": "1FlibEfoC7SJ",
        "outputId": "3d023eec-47c0-45d6-a8e3-e64b7e3d0010"
      },
      "source": [
        "from sklearn.metrics import confusion_matrix\n",
        "\n",
        "def confusion_mat(model, iterator):\n",
        "    \n",
        "    #deactivating dropout layers\n",
        "    model.eval()\n",
        "    \n",
        "    #deactivates autograd\n",
        "    with torch.no_grad():\n",
        "\n",
        "      #initializing confusion matrix\n",
        "      cm = [[0,0],[0,0]]\n",
        "\n",
        "      for i, batch in enumerate(iterator):\n",
        "          data, labels = batch\n",
        "          data = data.to(device)\n",
        "          labels = labels.to(device)\n",
        "\n",
        "          #get outputs\n",
        "          outputs = model(data)\n",
        "          y_pred = torch.round(outputs.squeeze())\n",
        "          \n",
        "\n",
        "\n",
        "          #add this batch to confusion matrix\n",
        "          cm += confusion_matrix(labels.float().cpu(), y_pred.cpu())\n",
        "\n",
        "    return cm\n",
        "\n",
        "\n",
        "cf_matrix = confusion_mat(model, test_loader)\n",
        "print(cf_matrix)\n",
        "\n",
        "import seaborn as sn\n",
        "import matplotlib.pyplot as plt\n",
        "\n",
        "classes = [\"Not humour\", \"Humour\"]\n",
        "\n",
        "df_cm = pd.DataFrame(cf_matrix, index = [i for i in classes],\n",
        "                     columns = [i for i in classes])\n",
        "# plt.figure(figsize = (12,7))\n",
        "plt.figure(figsize = (6,4))\n",
        "sn.set(font_scale=1.5)\n",
        "sn.heatmap(df_cm, annot=True, cmap=\"YlGnBu\", fmt='g')\n",
        "plt.xlabel(\"Predicted\", fontsize = 14)\n",
        "plt.ylabel(\"True\", fontsize = 14)\n",
        "plt.savefig('ff_hooof1.png')"
      ],
      "execution_count": 19,
      "outputs": [
        {
          "output_type": "stream",
          "text": [
            "[[2270   34]\n",
            " [ 141  910]]\n"
          ],
          "name": "stdout"
        },
        {
          "output_type": "display_data",
          "data": {
            "image/png": "[encoded data removed]",
            "text/plain": [
              "<Figure size 432x288 with 2 Axes>"
            ]
          },
          "metadata": {
            "tags": []
          }
        }
      ]
    }
  ]
}