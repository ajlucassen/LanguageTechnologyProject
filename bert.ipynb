{
  "nbformat": 4,
  "nbformat_minor": 0,
  "metadata": {
    "accelerator": "GPU",
    "colab": {
      "name": "Copy of bert with bert.ipynb",
      "provenance": [],
      "collapsed_sections": []
    },
    "kernelspec": {
      "display_name": "Python 3",
      "name": "python3"
    },
    "language_info": {
      "name": "python"
    }
  },
  "cells": [
    {
      "cell_type": "code",
      "metadata": {
        "id": "F60EGiUlPiMp"
      },
      "source": [
        "!pip install transformers"
      ],
      "execution_count": null,
      "outputs": []
    },
    {
      "cell_type": "code",
      "metadata": {
        "id": "VSy0Vf5H_CEy"
      },
      "source": [
        "import pickle\n",
        "import pandas as pd\n",
        "import numpy as np\n",
        "import csv\n",
        "import time\n",
        "import torch\n",
        "from torchtext.legacy import data \n",
        "from torch.utils.data import DataLoader, Dataset\n",
        "from torch.utils.data.sampler import SubsetRandomSampler\n",
        "import torch.optim as optim\n",
        "import torch.nn as nn\n",
        "from transformers import BertConfig, BertTokenizer, BertForSequenceClassification\n",
        "\n",
        "## import data from drive\n",
        "## this should be changed depending the address for you\n",
        "from google.colab import drive\n",
        "drive.mount('/content/drive', force_remount=True)\n",
        "import os\n",
        "# os.chdir('/content/drive/MyDrive/LTP - myside/')\n",
        "os.chdir('/content/drive/MyDrive/LCT/Language Technology Project/LTP Project') \n",
        "\n",
        "## using cuda if available\n",
        "if torch.cuda.is_available():\n",
        "  device = torch.device(\"cuda\")\n",
        "else:\n",
        "  device = torch.device(\"cpu\")\n",
        "\n",
        "def read_pickle_file(filename):\n",
        "    with open(filename, 'rb') as f:\n",
        "        x = pickle.load(f)\n",
        "\n",
        "    return x\n",
        "X_train = read_pickle_file(\"./data/X_train.pickle\")\n",
        "X_test = read_pickle_file(\"./data/X_test.pickle\")\n",
        "y_train = read_pickle_file(\"./data/y_train.pickle\")\n",
        "y_test = read_pickle_file(\"./data/y_test.pickle\")\n",
        "\n",
        "\n",
        "#Reproducing same results\n",
        "SEED = 2019\n",
        "\n",
        "#Torch\n",
        "torch.manual_seed(SEED)\n",
        "\n",
        "d = {'text':X_train,'label':y_train}\n",
        "train_df = pd.DataFrame(d)\n",
        "train_df = train_df.sample(frac = 1, random_state=SEED)\n",
        "print(train_df)\n",
        "train_df.to_csv(r'train.csv')"
      ],
      "execution_count": null,
      "outputs": []
    },
    {
      "cell_type": "code",
      "metadata": {
        "id": "VQZIhi1HgQHZ"
      },
      "source": [
        "print(type(X_train[0]))\n",
        "print(type(y_train[0]))"
      ],
      "execution_count": null,
      "outputs": []
    },
    {
      "cell_type": "code",
      "metadata": {
        "id": "q6cAort6dgik"
      },
      "source": [
        "with open('train.csv', 'r') as file:\n",
        "    reader = csv.reader(file)\n",
        "    row_count = sum(1 for row in reader)\n",
        "    print(row_count)\n",
        "\n",
        "\n",
        "X_train = []\n",
        "y_train = []\n",
        "X_eval = []\n",
        "y_eval = []\n",
        "\n",
        "with open('train.csv', 'r') as file:\n",
        "    reader = csv.reader(file)\n",
        "    row_num = 0\n",
        "    for row in reader:\n",
        "      # print(row_num)\n",
        "      if row_num == 0:\n",
        "        print(f'Column names are {\", \".join(row)}')\n",
        "      elif row_num < 0.8*row_count:\n",
        "        X_train.append(row[1])\n",
        "        y_train.append(int(row[2]))\n",
        "      else:\n",
        "        X_eval.append(row[1])\n",
        "        y_eval.append(int(row[2]))\n",
        "      row_num += 1\n",
        "        "
      ],
      "execution_count": null,
      "outputs": []
    },
    {
      "cell_type": "code",
      "metadata": {
        "id": "dYjnHS3oht0R"
      },
      "source": [
        "print(type(X_train[0]))\n",
        "print(type(y_train[0]))\n",
        "print(X_train)\n",
        "print(y_train)\n",
        "\n",
        "print(X_train[0])\n",
        "print(y_train[0])"
      ],
      "execution_count": null,
      "outputs": []
    },
    {
      "cell_type": "code",
      "metadata": {
        "id": "UBJ7jApBcqLK"
      },
      "source": [
        "print(type(X_eval[0]))\n",
        "print(type(y_eval[0]))\n",
        "print(X_eval)\n",
        "print(y_eval)\n",
        "\n",
        "print(X_eval[0])\n",
        "print(y_eval[0])"
      ],
      "execution_count": null,
      "outputs": []
    },
    {
      "cell_type": "code",
      "metadata": {
        "id": "XDEJD_zRzzFv"
      },
      "source": [
        "class HumorDataset(Dataset):\n",
        "  def __init__(self, text_data, input_labels, tokenizer):\n",
        "        super().__init__()\n",
        "        \n",
        "        data = []\n",
        "        labels = []\n",
        "        ## to be changed if needed\n",
        "        ## to be changed if needed\n",
        "        # max_length = 217 # for bert_base_cased\n",
        "        max_length = 207\n",
        "        self.max_length = max_length\n",
        "\n",
        "        for i, sample in enumerate(text_data):\n",
        "          tokens = tokenizer.tokenize(sample)\n",
        "          data_idxs = tokenizer.encode(sample)\n",
        "          \n",
        "          padded = np.zeros(max_length)\n",
        "          # if max_length < 217: # for bert_base_cased\n",
        "          if max_length < 207:\n",
        "            padded = data_idxs[:max_length]\n",
        "          else:\n",
        "            padded[:len(data_idxs)] = data_idxs\n",
        "          \n",
        "          data.append(padded)\n",
        "          \n",
        "          labels.append(input_labels[i])\n",
        "          \n",
        "        self.data = torch.tensor(data, dtype=torch.long)\n",
        "        self.labels = torch.tensor(labels, dtype=torch.long)\n",
        "\n",
        "  def __getitem__(self, index):\n",
        "        return self.data[index], self.labels[index]\n",
        "\n",
        "  def __len__(self):\n",
        "        return len(self.data)\n"
      ],
      "execution_count": null,
      "outputs": []
    },
    {
      "cell_type": "code",
      "metadata": {
        "id": "os6fOPq24d4q"
      },
      "source": [
        "## to be changed\n",
        "pretrained = 'bert-base-uncased'\n",
        "tokenizer = BertTokenizer.from_pretrained(pretrained)\n",
        "tokenizer.do_basic_tokenize = False\n"
      ],
      "execution_count": null,
      "outputs": []
    },
    {
      "cell_type": "code",
      "metadata": {
        "id": "iX-TpwBUCAe8"
      },
      "source": [
        "#set batch size\n",
        "BATCH_SIZE = 64"
      ],
      "execution_count": null,
      "outputs": []
    },
    {
      "cell_type": "code",
      "metadata": {
        "id": "N8Nalcwg3aRK"
      },
      "source": [
        "train_dataset = HumorDataset(X_train, y_train, tokenizer)"
      ],
      "execution_count": null,
      "outputs": []
    },
    {
      "cell_type": "code",
      "metadata": {
        "id": "zzEVIdz7XJnd"
      },
      "source": [
        "train_loader = DataLoader(train_dataset,\n",
        "        shuffle=True,\n",
        "        batch_size=BATCH_SIZE)\n"
      ],
      "execution_count": null,
      "outputs": []
    },
    {
      "cell_type": "code",
      "metadata": {
        "id": "M-KUwwAwGDV-"
      },
      "source": [
        "# Configure model parameters\n",
        "config = BertConfig.from_pretrained(pretrained)\n",
        "config.num_labels = 2\n",
        "config.num_hidden_layers = 1\n",
        "config.num_attention_heads = 1\n",
        "config.output_attentions = True\n",
        "\n",
        "## to be changed\n",
        "model = BertForSequenceClassification.from_pretrained(\n",
        "    pretrained,\n",
        "    num_labels=2,\n",
        "    num_hidden_layers=1,\n",
        "    num_attention_heads=1,\n",
        "    output_attentions=True)"
      ],
      "execution_count": null,
      "outputs": []
    },
    {
      "cell_type": "code",
      "metadata": {
        "id": "HogNvdVl_38N"
      },
      "source": [
        "#architecture\n",
        "print(model)\n",
        "\n",
        "#No. of trianable parameters\n",
        "def count_parameters(model):\n",
        "    return sum(p.numel() for p in model.parameters() if p.requires_grad)\n",
        "    \n",
        "print(f'The model has {count_parameters(model):,} trainable parameters')\n"
      ],
      "execution_count": null,
      "outputs": []
    },
    {
      "cell_type": "code",
      "metadata": {
        "id": "DIvWtst0_4nw"
      },
      "source": [
        "#define optimizer and loss\n",
        "# optimizer = optim.Adam(model.parameters())\n",
        "optimizer = optim.SGD(model.parameters(), lr = 0.01)\n",
        "# optimizer = optim.RMSprop(model.parameters())\n",
        "criterion = nn.BCELoss()\n",
        "\n",
        "#define metric\n",
        "def binary_accuracy(preds, y):\n",
        "    correct = 0.0\n",
        "    total = 0.0\n",
        "    for k in range (0, len(y)):\n",
        "      output = torch.argmax(preds[k])\n",
        "      if output==y[k]:\n",
        "        correct += 1\n",
        "    acc = correct/len(y)\n",
        "    return acc\n",
        "    \n",
        "#push to cuda if available\n",
        "# model = model.to(device)\n",
        "# criterion = criterion.to(device)"
      ],
      "execution_count": null,
      "outputs": []
    },
    {
      "cell_type": "code",
      "metadata": {
        "id": "HALlZObFAGJT"
      },
      "source": [
        "def train(model, iterator, optimizer):\n",
        "    \n",
        "    #initialize every epoch \n",
        "    epoch_loss = 0\n",
        "    epoch_acc = 0\n",
        "    \n",
        "    #set the model in training phase\n",
        "    model.train()\n",
        "\n",
        "    for i, batch in enumerate(iterator):\n",
        "        data, labels = batch\n",
        "\n",
        "        #resets the gradients after every batch\n",
        "        optimizer.zero_grad() \n",
        "        data = data.to(device)\n",
        "        labels = labels.to(device)\n",
        "        outputs = model(data, labels=labels)\n",
        "        \n",
        "        #compute the loss\n",
        "        loss = outputs[0]\n",
        "        \n",
        "        acc = binary_accuracy(outputs.logits, labels)   \n",
        "        \n",
        "        #backpropage the loss and compute the gradients\n",
        "        loss.backward()       \n",
        "        \n",
        "        #update the weights\n",
        "        optimizer.step()      \n",
        "        \n",
        "        #loss and accuracy\n",
        "        epoch_loss += loss\n",
        "        epoch_acc += acc\n",
        "        \n",
        "    return epoch_loss/len(iterator), epoch_acc/len(iterator)"
      ],
      "execution_count": null,
      "outputs": []
    },
    {
      "cell_type": "code",
      "metadata": {
        "id": "U0hq-PEcA5g3"
      },
      "source": [
        "def evaluate(model, iterator):\n",
        "    \n",
        "    #initialize every epoch\n",
        "    epoch_loss = 0\n",
        "    epoch_acc = 0\n",
        "\n",
        "    #deactivating dropout layers\n",
        "    model.eval()\n",
        "    \n",
        "    #deactivates autograd\n",
        "    with torch.no_grad():\n",
        "    \n",
        "        for i, batch in enumerate(iterator):\n",
        "            data, labels = batch\n",
        "            data = data.to(device)\n",
        "            labels = labels.to(device)\n",
        "        \n",
        "            outputs = model(data, labels=labels)\n",
        "            \n",
        "            #compute loss and accuracy\n",
        "            loss = outputs[0]\n",
        "            acc = binary_accuracy(outputs.logits, labels)\n",
        "            \n",
        "            #keep track of loss and accuracy\n",
        "            epoch_loss += loss\n",
        "            epoch_acc += acc\n",
        "        \n",
        "\n",
        "    return epoch_loss/len(iterator), epoch_acc/len(iterator)"
      ],
      "execution_count": null,
      "outputs": []
    },
    {
      "cell_type": "code",
      "metadata": {
        "id": "Rp9_75RK-FHV"
      },
      "source": [
        "N_EPOCHS = 5\n",
        "best_valid_loss = float('inf')\n",
        "## pushing to cuda\n",
        "model = model.to(device)  \n",
        "\n",
        "eval_dataset = HumorDataset(X_eval, y_eval, tokenizer)\n",
        "eval_loader = DataLoader(eval_dataset,\n",
        "      shuffle=True,\n",
        "      batch_size=BATCH_SIZE)\n",
        "\n",
        "for epoch in range(N_EPOCHS):\n",
        "        \n",
        "    # store starting time (training)\n",
        "    begin = time.time()\n",
        "\n",
        "    #train the model\n",
        "    train_loss, train_acc = train(model, train_loader, optimizer)\n",
        "\n",
        "    # store end time (training)\n",
        "    end = time.time()\n",
        "\n",
        "    # print train time\n",
        "    print(f\"Train time is {end - begin}\")\n",
        "    \n",
        "    # evaluate the model\n",
        "    valid_loss, valid_acc = evaluate(model, eval_loader)\n",
        "    \n",
        "    # save the best model\n",
        "    if valid_loss < best_valid_loss:\n",
        "        best_valid_loss = valid_loss\n",
        "        torch.save(model.state_dict(), 'saved_weights_bertwithbert_test.pt')\n",
        "    \n",
        "    print(f'\\tTrain Loss: {train_loss:.3f} | Train Acc: {train_acc*100:.2f}%')\n",
        "    print(f'\\t Val. Loss: {valid_loss:.3f} |  Val. Acc: {valid_acc*100:.2f}%')\n",
        "\n"
      ],
      "execution_count": null,
      "outputs": []
    },
    {
      "cell_type": "code",
      "metadata": {
        "id": "kHTfJ1zzhMWk"
      },
      "source": [
        "#load weights\n",
        "path='saved_weights_bertwithbert_test.pt'\n",
        "model.load_state_dict(torch.load(path));\n",
        "\n",
        "test_dataset = HumorDataset(X_test, y_test, tokenizer)\n",
        "test_loader = DataLoader(test_dataset,\n",
        "      shuffle=True,\n",
        "      batch_size=BATCH_SIZE)\n",
        "\n",
        "test_loss, test_acc = evaluate(model, test_loader)"
      ],
      "execution_count": null,
      "outputs": []
    },
    {
      "cell_type": "code",
      "metadata": {
        "id": "Vb6ljsmCCgoL",
        "colab": {
          "base_uri": "https://localhost:8080/"
        },
        "outputId": "d4820f54-3572-49f8-d982-5d98b71dfae6"
      },
      "source": [
        "print(f'\\tTest Loss: {test_loss:.3f} | Test Acc: {test_acc*100:.2f}%')"
      ],
      "execution_count": null,
      "outputs": [
        {
          "output_type": "stream",
          "text": [
            "\tTest Loss: 0.132 | Test Acc: 94.87%\n"
          ],
          "name": "stdout"
        }
      ]
    },
    {
      "cell_type": "code",
      "metadata": {
        "id": "_Jrf9aFjctSk"
      },
      "source": [
        "from sklearn.metrics import confusion_matrix\n",
        "\n",
        "def confusion_mat(model, iterator):\n",
        "    \n",
        "    #deactivating dropout layers\n",
        "    model.eval()\n",
        "    \n",
        "    #deactivates autograd\n",
        "    with torch.no_grad():\n",
        "\n",
        "      #initializing confusion matrix\n",
        "      cm = [[0,0],[0,0]]\n",
        "\n",
        "      for i, batch in enumerate(iterator):\n",
        "          data, labels = batch\n",
        "          data = data.to(device)\n",
        "          labels = labels.to(device)\n",
        "\n",
        "          #get outputs\n",
        "          outputs = model(data, labels=labels)\n",
        "\n",
        "          #change outputs into predictions\n",
        "          y_pred = outputs.logits.cpu()\n",
        "          pred = torch.argmax(y_pred, 1)\n",
        "\n",
        "          #true labels\n",
        "          y_true = labels.cpu()\n",
        " \n",
        "          #add this batch to confusion matrix\n",
        "          cm += confusion_matrix(y_true, pred)\n",
        "\n",
        "    return cm"
      ],
      "execution_count": null,
      "outputs": []
    },
    {
      "cell_type": "code",
      "metadata": {
        "colab": {
          "base_uri": "https://localhost:8080/"
        },
        "id": "vaYG4GfJdr-I",
        "outputId": "3a232721-9020-4241-b0cf-d73d630b9a91"
      },
      "source": [
        "cf_matrix = confusion_mat(model, test_loader)\n",
        "print(cf_matrix)"
      ],
      "execution_count": null,
      "outputs": [
        {
          "output_type": "stream",
          "text": [
            "[[2254   50]\n",
            " [ 120  931]]\n"
          ],
          "name": "stdout"
        }
      ]
    },
    {
      "cell_type": "code",
      "metadata": {
        "colab": {
          "base_uri": "https://localhost:8080/",
          "height": 450
        },
        "id": "c_T5hD-FguvR",
        "outputId": "2329bfe9-24f3-4fee-d490-4e5862eef8ed"
      },
      "source": [
        "import seaborn as sn\n",
        "import matplotlib.pyplot as plt\n",
        "\n",
        "classes = [\"Not humour\", \"Humour\"]\n",
        "\n",
        "df_cm = pd.DataFrame(cf_matrix, index = [i for i in classes],\n",
        "                     columns = [i for i in classes])\n",
        "plt.figure(figsize = (12,7))\n",
        "\n",
        "sn.heatmap(df_cm, annot=True, cmap=\"YlGnBu\", fmt='g')\n",
        "plt.xlabel(\"Predicted\", fontsize = 14)\n",
        "plt.ylabel(\"True\", fontsize = 14)\n",
        "plt.savefig('output.png')"
      ],
      "execution_count": null,
      "outputs": [
        {
          "output_type": "display_data",
          "data": {
            "image/png": "[encoded data removed]",
            "text/plain": [
              "<Figure size 864x504 with 2 Axes>"
            ]
          },
          "metadata": {
            "tags": [],
            "needs_background": "light"
          }
        }
      ]
    },
    {
      "cell_type": "code",
      "metadata": {
        "id": "qEFtf7Ko21eA"
      },
      "source": [
        "def misclassifications(model, iterator):\n",
        "\n",
        "    #deactivating dropout layers\n",
        "    model.eval()\n",
        "    \n",
        "    #deactivates autograd\n",
        "    with torch.no_grad():\n",
        "\n",
        "      #initialize lists for misclassification examples\n",
        "      examples_nh = [] #misclassified as not humour\n",
        "      examples_h = [] #misclassified as humour\n",
        "\n",
        "      for i, batch in enumerate(iterator):\n",
        "          data, labels = batch\n",
        "          data = data.to(device)\n",
        "          labels = labels.to(device)\n",
        "\n",
        "          #get outputs and change into predictions\n",
        "          outputs = model(data, labels=labels)\n",
        "          y_pred = outputs.logits.cpu()\n",
        "          pred = torch.argmax(y_pred, 1)\n",
        "          \n",
        "          #true labels\n",
        "          y_true = labels.cpu()\n",
        "\n",
        "          #get misclassifications per batch\n",
        "          for item in range(len(pred)):\n",
        "            if pred[item] != y_true[item]:\n",
        "              if pred[item] == 1:\n",
        "                # print(\"Misclassified as funny:\", item)\n",
        "                # print(X_test[item])\n",
        "                examples_h.append(tokenizer.decode(data[item], \n",
        "                                                   skip_special_tokens = True))\n",
        "              if pred[item] == 0:\n",
        "                # print(\"Misclassified as not funny:\", item)\n",
        "                # print(X_test[item])\n",
        "                examples_nh.append(tokenizer.decode(data[item], \n",
        "                                                    skip_special_tokens = True))\n",
        "            else:\n",
        "              continue\n",
        "\n",
        "    return examples_nh, examples_h"
      ],
      "execution_count": null,
      "outputs": []
    },
    {
      "cell_type": "code",
      "metadata": {
        "id": "b9Jqc1RQ3Ndr"
      },
      "source": [
        "misclass_nh, misclass_h = misclassifications(model, test_loader)\n",
        "\n",
        "print(\"MISCLASSIFIED AS NOT FUNNY:\")\n",
        "print(\"Number of sentences: \",len(misclass_nh))\n",
        "for sentence in misclass_nh:\n",
        "  print(sentence)\n",
        "\n",
        "print(\" \")\n",
        "print(\"MISCLASSIFIED AS FUNNY:\")\n",
        "print(\"Number of sentences: \",len(misclass_h))\n",
        "for sentence in misclass_h:\n",
        "  print(sentence)"
      ],
      "execution_count": null,
      "outputs": []
    }
  ]
}
